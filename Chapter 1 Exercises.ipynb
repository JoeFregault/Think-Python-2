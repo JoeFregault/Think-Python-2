{
 "cells": [
  {
   "cell_type": "markdown",
   "metadata": {},
   "source": [
    "# Chapter 1 Exercises \n",
    "## 1. Problem 1\n",
    "### (A)"
   ]
  },
  {
   "cell_type": "code",
   "execution_count": 1,
   "metadata": {
    "scrolled": false
   },
   "outputs": [
    {
     "ename": "SyntaxError",
     "evalue": "Missing parentheses in call to 'print'. Did you mean print(\"Hello, World!\")? (<ipython-input-1-3fe53e43c79c>, line 1)",
     "output_type": "error",
     "traceback": [
      "\u001b[1;36m  File \u001b[1;32m\"<ipython-input-1-3fe53e43c79c>\"\u001b[1;36m, line \u001b[1;32m1\u001b[0m\n\u001b[1;33m    print \"Hello, World!\"\u001b[0m\n\u001b[1;37m                        ^\u001b[0m\n\u001b[1;31mSyntaxError\u001b[0m\u001b[1;31m:\u001b[0m Missing parentheses in call to 'print'. Did you mean print(\"Hello, World!\")?\n"
     ]
    }
   ],
   "source": [
    "print \"Hello, World!\"\n",
    "print(\"Hello, World!\""
   ]
  },
  {
   "cell_type": "markdown",
   "metadata": {},
   "source": [
    "If you leave off any parentheses, you get a syntax error. It is necessary to have parentheses to use the print function. "
   ]
  },
  {
   "cell_type": "markdown",
   "metadata": {},
   "source": [
    "### (B)"
   ]
  },
  {
   "cell_type": "code",
   "execution_count": null,
   "metadata": {},
   "outputs": [],
   "source": [
    "#print(Hello, world!)\n",
    "#print(Hello, world)\n",
    "print(\"Hello, world)"
   ]
  },
  {
   "cell_type": "markdown",
   "metadata": {},
   "source": [
    "If you leave off the quotation marks, then the argument in the print function won't be a string. \n",
    "\n",
    "The error we get for the first line of code is a syntax error because it reads the \"!\" not as a string, but as a boolean operator.\n",
    "\n",
    "The error for the 2nd line of code is a Name error where python tries to look for a Hello variable because it doesn't see Hello as a string.\n",
    "\n",
    "The error for the third line of code is a syntax error because there is no closing quotation marks, the closing parentheses is thought to be part of the string. This is the same eror as part A."
   ]
  },
  {
   "cell_type": "markdown",
   "metadata": {},
   "source": [
    "### (C)"
   ]
  },
  {
   "cell_type": "code",
   "execution_count": null,
   "metadata": {},
   "outputs": [],
   "source": [
    "3 + +2\n",
    "3 - +2\n",
    "3 + -2\n",
    "3 - -2\n",
    "3--2\n",
    "3 + + +2 \n",
    "3 - - - - -2"
   ]
  },
  {
   "cell_type": "markdown",
   "metadata": {},
   "source": [
    "If you put a plus sign before a number, it would follow rules of mathematics. \n",
    "***\n",
    "1 + + 1 ==\n",
    "1 + 1\n",
    "***\n",
    "They're equivalent, it's redundant to put so many + signs together.\n",
    "\n",
    "If you put several + or - operators, it continues to follow the rules of mathematics. Two - operators becomes a + operator, three - operators gets condensed to a - operator etc. Spaces make no difference"
   ]
  },
  {
   "cell_type": "markdown",
   "metadata": {},
   "source": [
    "### (D)"
   ]
  },
  {
   "cell_type": "code",
   "execution_count": 2,
   "metadata": {},
   "outputs": [
    {
     "ename": "SyntaxError",
     "evalue": "invalid token (<ipython-input-2-2e9780ecac58>, line 1)",
     "output_type": "error",
     "traceback": [
      "\u001b[1;36m  File \u001b[1;32m\"<ipython-input-2-2e9780ecac58>\"\u001b[1;36m, line \u001b[1;32m1\u001b[0m\n\u001b[1;33m    011\u001b[0m\n\u001b[1;37m      ^\u001b[0m\n\u001b[1;31mSyntaxError\u001b[0m\u001b[1;31m:\u001b[0m invalid token\n"
     ]
    }
   ],
   "source": [
    "011"
   ]
  },
  {
   "cell_type": "markdown",
   "metadata": {},
   "source": [
    "Leading zeroes are not okay in Python, they cause syntax errors. According to some cursory internet searches, in Python 2 the leading 0 acts as a flag that the following numbers are going to be expresed in base 8, in Python 3, the flag isn't just a 0, but 0o or 0O so an error is thrown."
   ]
  },
  {
   "cell_type": "markdown",
   "metadata": {},
   "source": [
    "### (E)"
   ]
  },
  {
   "cell_type": "code",
   "execution_count": null,
   "metadata": {},
   "outputs": [],
   "source": [
    "3 2"
   ]
  },
  {
   "cell_type": "markdown",
   "metadata": {},
   "source": [
    "A syntax error is thrown if a space is between two values with no operators."
   ]
  },
  {
   "cell_type": "markdown",
   "metadata": {},
   "source": [
    "## 2. Problem 2"
   ]
  },
  {
   "cell_type": "markdown",
   "metadata": {},
   "source": [
    "### (A)"
   ]
  },
  {
   "cell_type": "code",
   "execution_count": null,
   "metadata": {},
   "outputs": [],
   "source": [
    "seconds = 42 * 60 + 42\n",
    "seconds"
   ]
  },
  {
   "cell_type": "markdown",
   "metadata": {},
   "source": [
    "### (B)"
   ]
  },
  {
   "cell_type": "code",
   "execution_count": null,
   "metadata": {},
   "outputs": [],
   "source": [
    "miles = 10 / 1.61\n",
    "miles"
   ]
  },
  {
   "cell_type": "markdown",
   "metadata": {},
   "source": [
    "### (C)"
   ]
  },
  {
   "cell_type": "code",
   "execution_count": null,
   "metadata": {},
   "outputs": [],
   "source": [
    "pace = (42 + (42/60)) / miles\n",
    "\n",
    "avgSpeed = 60 / pace\n",
    "\n",
    "print(pace, \"\\n\", avgSpeed)"
   ]
  },
  {
   "cell_type": "markdown",
   "metadata": {},
   "source": [
    "## 3. Problem 3\n",
    "### (A)"
   ]
  },
  {
   "cell_type": "code",
   "execution_count": null,
   "metadata": {},
   "outputs": [],
   "source": [
    "42 = n"
   ]
  },
  {
   "cell_type": "markdown",
   "metadata": {},
   "source": [
    "42 = n is not legal, we get a syntax error with the message \"can't assign to literal\". "
   ]
  },
  {
   "cell_type": "markdown",
   "metadata": {},
   "source": [
    "### (B)"
   ]
  },
  {
   "cell_type": "code",
   "execution_count": null,
   "metadata": {},
   "outputs": [],
   "source": [
    "x = y = 1"
   ]
  },
  {
   "cell_type": "markdown",
   "metadata": {},
   "source": [
    "Yes, it is a legal statement."
   ]
  },
  {
   "cell_type": "markdown",
   "metadata": {},
   "source": [
    "### (C)\n",
    "If you put a semicolon at the end of a Python statement, it makes it so the code following the semicolon is executed as if it were a new line. "
   ]
  },
  {
   "cell_type": "markdown",
   "metadata": {},
   "source": [
    "### (D)\n",
    "A period at the end of a statement causes a syntax error. If you put the period after a statement with an int, it is changed to a float. i.e., 1. is now 1.0"
   ]
  },
  {
   "cell_type": "markdown",
   "metadata": {},
   "source": [
    "### (E)\n",
    "As I state previously, the first n has the value of 42 stored as an int, the 2nd n has the value 42 stored as a float"
   ]
  },
  {
   "cell_type": "markdown",
   "metadata": {},
   "source": [
    "## 4. Problem 4\n",
    "### (A)"
   ]
  },
  {
   "cell_type": "code",
   "execution_count": null,
   "metadata": {},
   "outputs": [],
   "source": [
    "def sphere_volume(r):\n",
    "    vol = r**3 * 3.1415 * (4/3)\n",
    "    return vol\n",
    "\n",
    "radFive = sphere_volume(5)\n",
    "radFifteen = sphere_volume(15)\n",
    "\n",
    "print(radFive, radFifteen)"
   ]
  },
  {
   "cell_type": "markdown",
   "metadata": {},
   "source": [
    "### (B)"
   ]
  },
  {
   "cell_type": "code",
   "execution_count": null,
   "metadata": {},
   "outputs": [],
   "source": [
    "def wholesale_cost(books):\n",
    "    if books <= 0:\n",
    "        return 0\n",
    "    cost = books * (24.95 * 0.6)\n",
    "    shipping = 3\n",
    "    if books > 1:\n",
    "        shipping = shipping + (books - 1) * 0.75\n",
    "    totalCost = cost + shipping\n",
    "    return totalCost\n",
    "\n",
    "copiesSixty = wholesale_cost(60)\n",
    "copiesTen = wholesale_cost(10)\n",
    "\n",
    "print(copiesSixty, copiesTen)"
   ]
  },
  {
   "cell_type": "markdown",
   "metadata": {},
   "source": [
    "### (C)"
   ]
  },
  {
   "cell_type": "code",
   "execution_count": null,
   "metadata": {},
   "outputs": [],
   "source": [
    "def run_time(miles, warm_pace, fast_pace):\n",
    "    warmTime = warm_pace * 2\n",
    "    fastTime = (miles - 2) * fast_pace\n",
    "    totalSecs = warmTime + fastTime\n",
    "    mins = totalSecs // 60\n",
    "    secs = totalSecs % 60\n",
    "    finalTime = (mins, secs)\n",
    "    return finalTime\n",
    "\n",
    "run_time(5, 495, 432)"
   ]
  },
  {
   "cell_type": "markdown",
   "metadata": {},
   "source": [
    "### Optional"
   ]
  },
  {
   "cell_type": "code",
   "execution_count": null,
   "metadata": {},
   "outputs": [],
   "source": [
    "def run_time(miles, warm_pace, fast_pace):\n",
    "    warmSecs = int(warm_pace.split(\":\")[0]) * 60 +int(warm_pace.split(\":\")[1])\n",
    "    fastSecs = int(fast_pace.split(\":\")[0])*60 + int(fast_pace.split(\":\")[1])\n",
    "    \n",
    "    warmTime = warmSecs * 2\n",
    "    fastTime = (miles - 2) * fastSecs\n",
    "    totalSecs = warmTime + fastTime\n",
    "    mins = totalSecs // 60\n",
    "    secs = totalSecs % 60\n",
    "    finalTime = (mins, secs)\n",
    "    return finalTime\n",
    "\n",
    "run_time(5, \"8:15\", \"7:12\")"
   ]
  },
  {
   "cell_type": "markdown",
   "metadata": {},
   "source": [
    "### 5. Problem 5"
   ]
  },
  {
   "cell_type": "code",
   "execution_count": null,
   "metadata": {},
   "outputs": [],
   "source": [
    "import math\n",
    "\n",
    "def polar(real, imaginary):\n",
    "    rad = math.sqrt(real**2 + imaginary**2)\n",
    "    theta = math.atan(imaginary/real)\n",
    "    coords = (rad, theta)\n",
    "    return coords\n",
    "\n",
    "print(polar(1, 1), polar(-2, -3), polar(4,2) ) "
   ]
  }
 ],
 "metadata": {
  "kernelspec": {
   "display_name": "Python 3",
   "language": "python",
   "name": "python3"
  },
  "language_info": {
   "codemirror_mode": {
    "name": "ipython",
    "version": 3
   },
   "file_extension": ".py",
   "mimetype": "text/x-python",
   "name": "python",
   "nbconvert_exporter": "python",
   "pygments_lexer": "ipython3",
   "version": "3.7.6"
  }
 },
 "nbformat": 4,
 "nbformat_minor": 4
}
