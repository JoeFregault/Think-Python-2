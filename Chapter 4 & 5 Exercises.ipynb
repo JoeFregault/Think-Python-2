{
 "cells": [
  {
   "cell_type": "markdown",
   "metadata": {},
   "source": [
    "## Setup Turtle Graphics to work with Jupyter\n",
    "\n",
    "From a terminal prompt type the following two commands:\n",
    "~~~\n",
    "pip install ipyturtle\n",
    "jupyter nbextension enable --py --sys-prefix ipyturtle\n",
    "~~~\n"
   ]
  },
  {
   "cell_type": "code",
   "execution_count": 1,
   "metadata": {
    "slideshow": {
     "slide_type": "slide"
    }
   },
   "outputs": [],
   "source": [
    "from ipyturtle import Turtle"
   ]
  },
  {
   "cell_type": "code",
   "execution_count": 2,
   "metadata": {},
   "outputs": [
    {
     "data": {
      "application/vnd.jupyter.widget-view+json": {
       "model_id": "0afba9581a764b518574873dd6e288ca",
       "version_major": 2,
       "version_minor": 0
      },
      "text/plain": [
       "Turtle()"
      ]
     },
     "metadata": {},
     "output_type": "display_data"
    }
   ],
   "source": [
    "bob = Turtle()\n",
    "bob"
   ]
  },
  {
   "cell_type": "code",
   "execution_count": 3,
   "metadata": {},
   "outputs": [],
   "source": [
    "def move_down(t):\n",
    "    t.reset()\n",
    "    t.penup()\n",
    "    t.back(130)\n",
    "    t.pendown()"
   ]
  },
  {
   "cell_type": "markdown",
   "metadata": {},
   "source": [
    "The following code has been provided to you from the textbook."
   ]
  },
  {
   "cell_type": "code",
   "execution_count": 4,
   "metadata": {},
   "outputs": [],
   "source": [
    "\n",
    "\n",
    "import math\n",
    "\n",
    "def square(t, length):\n",
    "    for i in range(4):\n",
    "        t.forward(length)\n",
    "        t.left(90)\n",
    "\n",
    "\n",
    "def polyline(t, n, length, angle):\n",
    "    for i in range(n):\n",
    "        t.forward(length)\n",
    "        t.left(angle)\n",
    "\n",
    "\n",
    "def polygon(t, n, length):\n",
    "    angle = 360.0/n\n",
    "    polyline(t, n, length, angle)\n",
    "\n",
    "\n",
    "def arc(t, r, angle):\n",
    "    arc_length = 2 * math.pi * r * abs(angle) / 360\n",
    "    n = int(arc_length / 4) + 3\n",
    "    step_length = arc_length / n\n",
    "    step_angle = float(angle) / n\n",
    "\n",
    "    # making a slight left turn before starting reduces\n",
    "    # the error caused by the linear approximation of the arc\n",
    "    t.left(step_angle/2)\n",
    "    polyline(t, n, step_length, step_angle)\n",
    "    t.right(step_angle/2)\n",
    "\n",
    "\n",
    "def circle(t, r):\n",
    "    arc(t, r, 360)"
   ]
  },
  {
   "cell_type": "code",
   "execution_count": 5,
   "metadata": {},
   "outputs": [],
   "source": [
    "move_down(bob)"
   ]
  },
  {
   "cell_type": "markdown",
   "metadata": {},
   "source": [
    "## Exercise 4.2\n",
    "Complete the code to draw flowers similar to problem 4.2"
   ]
  },
  {
   "cell_type": "code",
   "execution_count": 6,
   "metadata": {},
   "outputs": [],
   "source": [
    "## Write your code in this cell.\n",
    "## Avoid temptation to look at answers\n",
    "# suggestion define petal, then define flower in terms of petal\n",
    "def petal(t, r, angle):\n",
    "    arc(t, r, angle)\n",
    "    t.left(180 - angle)\n",
    "    arc(t, r, angle)\n",
    "\n",
    "def flower(t, n, r, angle):\n",
    "      for i in range(n):\n",
    "        petal(t, r, angle)\n",
    "        t.left(360/n)"
   ]
  },
  {
   "cell_type": "markdown",
   "metadata": {},
   "source": [
    "Run the following cells and take a screen shot of the resulting flower. Put all of your screenshots in a single file (like a Word doc or something)."
   ]
  },
  {
   "cell_type": "code",
   "execution_count": 7,
   "metadata": {},
   "outputs": [],
   "source": [
    "bob.reset()\n",
    "# 7 petal flower, each petal has a radius of 80 and draws an arc of 60 degrees\n",
    "flower(bob, 7, 80.0, 60.0)"
   ]
  },
  {
   "cell_type": "code",
   "execution_count": 8,
   "metadata": {},
   "outputs": [
    {
     "name": "stderr",
     "output_type": "stream",
     "text": [
      "IOPub message rate exceeded.\n",
      "The notebook server will temporarily stop sending output\n",
      "to the client in order to avoid crashing it.\n",
      "To change this limit, set the config variable\n",
      "`--NotebookApp.iopub_msg_rate_limit`.\n",
      "\n",
      "Current values:\n",
      "NotebookApp.iopub_msg_rate_limit=1000.0 (msgs/sec)\n",
      "NotebookApp.rate_limit_window=3.0 (secs)\n",
      "\n",
      "IOPub message rate exceeded.\n",
      "The notebook server will temporarily stop sending output\n",
      "to the client in order to avoid crashing it.\n",
      "To change this limit, set the config variable\n",
      "`--NotebookApp.iopub_msg_rate_limit`.\n",
      "\n",
      "Current values:\n",
      "NotebookApp.iopub_msg_rate_limit=1000.0 (msgs/sec)\n",
      "NotebookApp.rate_limit_window=3.0 (secs)\n",
      "\n"
     ]
    }
   ],
   "source": [
    "bob.reset()\n",
    "# 15 petals, radius 80, angle 120\n",
    "flower(bob, 15, 80.0, 120.0)"
   ]
  },
  {
   "cell_type": "code",
   "execution_count": 9,
   "metadata": {},
   "outputs": [
    {
     "name": "stderr",
     "output_type": "stream",
     "text": [
      "IOPub message rate exceeded.\n",
      "The notebook server will temporarily stop sending output\n",
      "to the client in order to avoid crashing it.\n",
      "To change this limit, set the config variable\n",
      "`--NotebookApp.iopub_msg_rate_limit`.\n",
      "\n",
      "Current values:\n",
      "NotebookApp.iopub_msg_rate_limit=1000.0 (msgs/sec)\n",
      "NotebookApp.rate_limit_window=3.0 (secs)\n",
      "\n"
     ]
    }
   ],
   "source": [
    "bob.reset()\n",
    "# 12 petals, radius 200, angle 30\n",
    "flower(bob, 12, 200.0, 30.0)"
   ]
  },
  {
   "cell_type": "markdown",
   "metadata": {},
   "source": [
    "## Exercise 4.3\n",
    "\n",
    "Complete the code to draw pies as specified in 4.3"
   ]
  },
  {
   "cell_type": "code",
   "execution_count": 10,
   "metadata": {},
   "outputs": [],
   "source": [
    "## Write your code here\n",
    "## Think through your solution. Avoid the temptation to look at the answer.\n",
    "def polypie(t, n, r):\n",
    "    angle = 180/n\n",
    "    for i in range(n):\n",
    "        t.right(angle)\n",
    "        t.forward(r)\n",
    "        t.left(90 + angle) # making a right angle, then moving forward the desired degrees\n",
    "        crust = 2 * r * math.sin(angle * math.pi/180) # getting the precies measurement of the pie crust\n",
    "        t.forward(crust)\n",
    "        # next two lines move us back to where we started\n",
    "        t.left(90 + angle)\n",
    "        t.forward(r)\n",
    "        # need to turn for next iteration\n",
    "        t.left(180 + angle)"
   ]
  },
  {
   "cell_type": "markdown",
   "metadata": {},
   "source": [
    "Run the following cells and take a screen shot of the resulting pie. Put all of your screenshots in the same file as the flowers."
   ]
  },
  {
   "cell_type": "code",
   "execution_count": 11,
   "metadata": {},
   "outputs": [],
   "source": [
    "bob.reset()\n",
    "\n",
    "size = 150\n",
    "polypie(bob, 5, size)"
   ]
  },
  {
   "cell_type": "code",
   "execution_count": 12,
   "metadata": {},
   "outputs": [],
   "source": [
    "bob.reset()\n",
    "polypie(bob, 9, size)"
   ]
  },
  {
   "cell_type": "code",
   "execution_count": 13,
   "metadata": {},
   "outputs": [],
   "source": [
    "bob.reset()\n",
    "polypie(bob, 16, size)"
   ]
  },
  {
   "cell_type": "markdown",
   "metadata": {},
   "source": [
    "### Completely optional and good exercise for your brain\n",
    "\n",
    "Try exercise 4.5 with spirals. More of a math puzzle than a coding one.\n",
    "\n",
    "No extra credit. It's entirely for your own benefit.\n",
    "\n",
    "The book's solutions make an archimedes spiral. See if you can make any of the other spirals listed on the wikipedia page. It's hard.\n",
    "\n",
    "If you do complete it, you can include it with your other screenshots, but I'm not giving extra points."
   ]
  },
  {
   "cell_type": "markdown",
   "metadata": {},
   "source": [
    "## Exercise 5.5\n",
    "\n",
    "Read the following function and see if you can ﬁgure out what it does. Then copy and paste it into a new cell to run it and see if you got it right.\n",
    "\n",
    "You don't actually have to show me anything for this problem. I do want you to think about it though.\n",
    "\n",
    "- As you think about it, start with n = 0.\n",
    "- Then think about the case when n = 1.\n",
    "- Then think about the case when n = 2.\n",
    "- Then think about the case when n = 3.\n",
    "- and so on\n",
    "\n",
    "Thinking recursively can be hard, but if you take your time you can solve it.\n",
    "\n",
    "~~~\n",
    "def draw(t, length, n):\n",
    "    if n == 0:\n",
    "        return\n",
    "    angle = 30\n",
    "    t.forward(length*n)  # go up\n",
    "    t.left(angle)        # turn left 30 (now facing slightly left)\n",
    "    draw(t, length, n-1)    # recursively call draw\n",
    "    t.right(2*angle)     # turn right 60 (now facing slightly right)\n",
    "    draw(t, length, n-1)    # recursively call draw\n",
    "    t.left(angle)        # turn left 30 (now facing straight up)\n",
    "    t.back(length*n)     # go back (face up)\n",
    "~~~"
   ]
  },
  {
   "cell_type": "code",
   "execution_count": 14,
   "metadata": {},
   "outputs": [],
   "source": [
    "# after you think about what the function will draw, you can replace this code\n",
    "# by copying and pasting the code from above\n",
    "def draw(t, length, n):\n",
    "    if n == 0:\n",
    "        return\n",
    "    angle = 30\n",
    "    t.forward(length*n)  # go up\n",
    "    t.left(angle)        # turn left 30 (now facing slightly left)\n",
    "    draw(t, length, n-1)    # recursively call draw\n",
    "    t.right(2*angle)     # turn right 60 (now facing slightly right)\n",
    "    draw(t, length, n-1)    # recursively call draw\n",
    "    t.left(angle)        # turn left 30 (now facing straight up)\n",
    "    t.back(length*n)"
   ]
  },
  {
   "cell_type": "code",
   "execution_count": 15,
   "metadata": {},
   "outputs": [],
   "source": [
    "# you can use the following cells to draw pictures (for your own satisfaction)\n",
    "move_down(bob)\n",
    "draw(bob, 10, 1)"
   ]
  },
  {
   "cell_type": "code",
   "execution_count": 16,
   "metadata": {},
   "outputs": [],
   "source": [
    "move_down(bob)\n",
    "draw(bob, 10, 2)"
   ]
  },
  {
   "cell_type": "code",
   "execution_count": 17,
   "metadata": {},
   "outputs": [],
   "source": [
    "move_down(bob)\n",
    "draw(bob, 10, 3)"
   ]
  },
  {
   "cell_type": "code",
   "execution_count": 18,
   "metadata": {},
   "outputs": [],
   "source": [
    "move_down(bob)\n",
    "draw(bob, 10, 4)"
   ]
  },
  {
   "cell_type": "code",
   "execution_count": 19,
   "metadata": {},
   "outputs": [],
   "source": [
    "move_down(bob)\n",
    "draw(bob, 10, 5)"
   ]
  },
  {
   "cell_type": "code",
   "execution_count": 20,
   "metadata": {},
   "outputs": [],
   "source": [
    "move_down(bob)\n",
    "draw(bob, 10, 6)"
   ]
  },
  {
   "cell_type": "code",
   "execution_count": 21,
   "metadata": {},
   "outputs": [],
   "source": [
    "move_down(bob)\n",
    "draw(bob, 8, 7)"
   ]
  },
  {
   "cell_type": "markdown",
   "metadata": {},
   "source": [
    "## Exercise 5.6\n",
    "\n",
    "The Koch curve is a fractal that looks something like Figure 5.2 (in the textbook). To draw a Koch curve with length x, all you have to do is:\n",
    "\n",
    "1. Draw a Koch curve with length x/3.\n",
    "2. Turn left 60 degrees.\n",
    "3. Draw a Koch curve with length x/3.\n",
    "4. Turn right 120 degrees.\n",
    "5. Draw a Koch curve with length x/3.\n",
    "6. Turn left 60 degrees.\n",
    "7. Draw a Koch curve with length x/3.\n",
    "\n",
    "The exception is if x is less than 3: in that case, you can just draw a straight line with length x.\n",
    "\n",
    "Write a function called koch that takes a turtle and a length as parameters, and that uses the turtle to draw a Koch curve with the given length."
   ]
  },
  {
   "cell_type": "code",
   "execution_count": 22,
   "metadata": {},
   "outputs": [],
   "source": [
    "def koch(t, n):\n",
    "    if n < 3:\n",
    "        t.forward(n)\n",
    "        return\n",
    "    m = n/3\n",
    "    koch(t, m)\n",
    "    t.left(60)\n",
    "    koch(t, m)\n",
    "    t.right(120)\n",
    "    koch(t, m)\n",
    "    t.left(60)\n",
    "    koch(t, m)\n",
    "    "
   ]
  },
  {
   "cell_type": "code",
   "execution_count": 23,
   "metadata": {},
   "outputs": [],
   "source": [
    "move_down(bob)\n",
    "koch(bob, 243)"
   ]
  }
 ],
 "metadata": {
  "kernelspec": {
   "display_name": "Python 3",
   "language": "python",
   "name": "python3"
  },
  "language_info": {
   "codemirror_mode": {
    "name": "ipython",
    "version": 3
   },
   "file_extension": ".py",
   "mimetype": "text/x-python",
   "name": "python",
   "nbconvert_exporter": "python",
   "pygments_lexer": "ipython3",
   "version": "3.7.6"
  }
 },
 "nbformat": 4,
 "nbformat_minor": 4
}
